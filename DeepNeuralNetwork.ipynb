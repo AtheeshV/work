{
  "nbformat": 4,
  "nbformat_minor": 0,
  "metadata": {
    "colab": {
      "provenance": [],
      "authorship_tag": "ABX9TyONdUERq4rP0AwkvdDkusny",
      "include_colab_link": true
    },
    "kernelspec": {
      "name": "python3",
      "display_name": "Python 3"
    },
    "language_info": {
      "name": "python"
    }
  },
  "cells": [
    {
      "cell_type": "markdown",
      "metadata": {
        "id": "view-in-github",
        "colab_type": "text"
      },
      "source": [
        "<a href=\"https://colab.research.google.com/github/AtheeshV/work/blob/main/DeepNeuralNetwork.ipynb\" target=\"_parent\"><img src=\"https://colab.research.google.com/assets/colab-badge.svg\" alt=\"Open In Colab\"/></a>"
      ]
    },
    {
      "cell_type": "code",
      "execution_count": null,
      "metadata": {
        "id": "uVuOObMRCMrK"
      },
      "outputs": [],
      "source": [
        "!pip install -q kaggle"
      ]
    },
    {
      "cell_type": "code",
      "source": [
        "from google.colab import files\n",
        "\n",
        "#Uploading Kaggle API credentials JSON file\n",
        "files.upload()"
      ],
      "metadata": {
        "colab": {
          "base_uri": "https://localhost:8080/",
          "height": 90
        },
        "id": "dwocSsoICnlG",
        "outputId": "fb28b40b-9f90-423e-d921-8ca516b83c18"
      },
      "execution_count": null,
      "outputs": [
        {
          "output_type": "display_data",
          "data": {
            "text/plain": [
              "<IPython.core.display.HTML object>"
            ],
            "text/html": [
              "\n",
              "     <input type=\"file\" id=\"files-c478a3b6-ad50-4fb8-8aa8-abe0f8d395ac\" name=\"files[]\" multiple disabled\n",
              "        style=\"border:none\" />\n",
              "     <output id=\"result-c478a3b6-ad50-4fb8-8aa8-abe0f8d395ac\">\n",
              "      Upload widget is only available when the cell has been executed in the\n",
              "      current browser session. Please rerun this cell to enable.\n",
              "      </output>\n",
              "      <script>// Copyright 2017 Google LLC\n",
              "//\n",
              "// Licensed under the Apache License, Version 2.0 (the \"License\");\n",
              "// you may not use this file except in compliance with the License.\n",
              "// You may obtain a copy of the License at\n",
              "//\n",
              "//      http://www.apache.org/licenses/LICENSE-2.0\n",
              "//\n",
              "// Unless required by applicable law or agreed to in writing, software\n",
              "// distributed under the License is distributed on an \"AS IS\" BASIS,\n",
              "// WITHOUT WARRANTIES OR CONDITIONS OF ANY KIND, either express or implied.\n",
              "// See the License for the specific language governing permissions and\n",
              "// limitations under the License.\n",
              "\n",
              "/**\n",
              " * @fileoverview Helpers for google.colab Python module.\n",
              " */\n",
              "(function(scope) {\n",
              "function span(text, styleAttributes = {}) {\n",
              "  const element = document.createElement('span');\n",
              "  element.textContent = text;\n",
              "  for (const key of Object.keys(styleAttributes)) {\n",
              "    element.style[key] = styleAttributes[key];\n",
              "  }\n",
              "  return element;\n",
              "}\n",
              "\n",
              "// Max number of bytes which will be uploaded at a time.\n",
              "const MAX_PAYLOAD_SIZE = 100 * 1024;\n",
              "\n",
              "function _uploadFiles(inputId, outputId) {\n",
              "  const steps = uploadFilesStep(inputId, outputId);\n",
              "  const outputElement = document.getElementById(outputId);\n",
              "  // Cache steps on the outputElement to make it available for the next call\n",
              "  // to uploadFilesContinue from Python.\n",
              "  outputElement.steps = steps;\n",
              "\n",
              "  return _uploadFilesContinue(outputId);\n",
              "}\n",
              "\n",
              "// This is roughly an async generator (not supported in the browser yet),\n",
              "// where there are multiple asynchronous steps and the Python side is going\n",
              "// to poll for completion of each step.\n",
              "// This uses a Promise to block the python side on completion of each step,\n",
              "// then passes the result of the previous step as the input to the next step.\n",
              "function _uploadFilesContinue(outputId) {\n",
              "  const outputElement = document.getElementById(outputId);\n",
              "  const steps = outputElement.steps;\n",
              "\n",
              "  const next = steps.next(outputElement.lastPromiseValue);\n",
              "  return Promise.resolve(next.value.promise).then((value) => {\n",
              "    // Cache the last promise value to make it available to the next\n",
              "    // step of the generator.\n",
              "    outputElement.lastPromiseValue = value;\n",
              "    return next.value.response;\n",
              "  });\n",
              "}\n",
              "\n",
              "/**\n",
              " * Generator function which is called between each async step of the upload\n",
              " * process.\n",
              " * @param {string} inputId Element ID of the input file picker element.\n",
              " * @param {string} outputId Element ID of the output display.\n",
              " * @return {!Iterable<!Object>} Iterable of next steps.\n",
              " */\n",
              "function* uploadFilesStep(inputId, outputId) {\n",
              "  const inputElement = document.getElementById(inputId);\n",
              "  inputElement.disabled = false;\n",
              "\n",
              "  const outputElement = document.getElementById(outputId);\n",
              "  outputElement.innerHTML = '';\n",
              "\n",
              "  const pickedPromise = new Promise((resolve) => {\n",
              "    inputElement.addEventListener('change', (e) => {\n",
              "      resolve(e.target.files);\n",
              "    });\n",
              "  });\n",
              "\n",
              "  const cancel = document.createElement('button');\n",
              "  inputElement.parentElement.appendChild(cancel);\n",
              "  cancel.textContent = 'Cancel upload';\n",
              "  const cancelPromise = new Promise((resolve) => {\n",
              "    cancel.onclick = () => {\n",
              "      resolve(null);\n",
              "    };\n",
              "  });\n",
              "\n",
              "  // Wait for the user to pick the files.\n",
              "  const files = yield {\n",
              "    promise: Promise.race([pickedPromise, cancelPromise]),\n",
              "    response: {\n",
              "      action: 'starting',\n",
              "    }\n",
              "  };\n",
              "\n",
              "  cancel.remove();\n",
              "\n",
              "  // Disable the input element since further picks are not allowed.\n",
              "  inputElement.disabled = true;\n",
              "\n",
              "  if (!files) {\n",
              "    return {\n",
              "      response: {\n",
              "        action: 'complete',\n",
              "      }\n",
              "    };\n",
              "  }\n",
              "\n",
              "  for (const file of files) {\n",
              "    const li = document.createElement('li');\n",
              "    li.append(span(file.name, {fontWeight: 'bold'}));\n",
              "    li.append(span(\n",
              "        `(${file.type || 'n/a'}) - ${file.size} bytes, ` +\n",
              "        `last modified: ${\n",
              "            file.lastModifiedDate ? file.lastModifiedDate.toLocaleDateString() :\n",
              "                                    'n/a'} - `));\n",
              "    const percent = span('0% done');\n",
              "    li.appendChild(percent);\n",
              "\n",
              "    outputElement.appendChild(li);\n",
              "\n",
              "    const fileDataPromise = new Promise((resolve) => {\n",
              "      const reader = new FileReader();\n",
              "      reader.onload = (e) => {\n",
              "        resolve(e.target.result);\n",
              "      };\n",
              "      reader.readAsArrayBuffer(file);\n",
              "    });\n",
              "    // Wait for the data to be ready.\n",
              "    let fileData = yield {\n",
              "      promise: fileDataPromise,\n",
              "      response: {\n",
              "        action: 'continue',\n",
              "      }\n",
              "    };\n",
              "\n",
              "    // Use a chunked sending to avoid message size limits. See b/62115660.\n",
              "    let position = 0;\n",
              "    do {\n",
              "      const length = Math.min(fileData.byteLength - position, MAX_PAYLOAD_SIZE);\n",
              "      const chunk = new Uint8Array(fileData, position, length);\n",
              "      position += length;\n",
              "\n",
              "      const base64 = btoa(String.fromCharCode.apply(null, chunk));\n",
              "      yield {\n",
              "        response: {\n",
              "          action: 'append',\n",
              "          file: file.name,\n",
              "          data: base64,\n",
              "        },\n",
              "      };\n",
              "\n",
              "      let percentDone = fileData.byteLength === 0 ?\n",
              "          100 :\n",
              "          Math.round((position / fileData.byteLength) * 100);\n",
              "      percent.textContent = `${percentDone}% done`;\n",
              "\n",
              "    } while (position < fileData.byteLength);\n",
              "  }\n",
              "\n",
              "  // All done.\n",
              "  yield {\n",
              "    response: {\n",
              "      action: 'complete',\n",
              "    }\n",
              "  };\n",
              "}\n",
              "\n",
              "scope.google = scope.google || {};\n",
              "scope.google.colab = scope.google.colab || {};\n",
              "scope.google.colab._files = {\n",
              "  _uploadFiles,\n",
              "  _uploadFilesContinue,\n",
              "};\n",
              "})(self);\n",
              "</script> "
            ]
          },
          "metadata": {}
        },
        {
          "output_type": "stream",
          "name": "stdout",
          "text": [
            "Saving kaggle.json to kaggle.json\n"
          ]
        },
        {
          "output_type": "execute_result",
          "data": {
            "text/plain": [
              "{'kaggle.json': b'{\"username\":\"atheesh1\",\"key\":\"c0b3270f88a0c1b12e90602b69b45bc5\"}'}"
            ]
          },
          "metadata": {},
          "execution_count": 16
        }
      ]
    },
    {
      "cell_type": "code",
      "source": [
        "!mkdir -p ~/.kaggle\n",
        "!mv kaggle.json ~/.kaggle/\n",
        "!chmod 600 ~/.kaggle/kaggle.json"
      ],
      "metadata": {
        "id": "4SYgb8bnCn5d"
      },
      "execution_count": null,
      "outputs": []
    },
    {
      "cell_type": "code",
      "source": [
        "!kaggle datasets download -d tr1gg3rtrash/balanced-augmented-covid-cxr-dataset"
      ],
      "metadata": {
        "colab": {
          "base_uri": "https://localhost:8080/"
        },
        "id": "WTZsRJbBCoJm",
        "outputId": "f416f49c-18e2-491f-e435-eecdf8840fd0"
      },
      "execution_count": null,
      "outputs": [
        {
          "output_type": "stream",
          "name": "stdout",
          "text": [
            "balanced-augmented-covid-cxr-dataset.zip: Skipping, found more recently modified local copy (use --force to force download)\n"
          ]
        }
      ]
    },
    {
      "cell_type": "code",
      "source": [
        "!unzip balanced-augmented-covid-cxr-dataset.zip -d balanced-augmented-covid-cxr-dataset"
      ],
      "metadata": {
        "colab": {
          "base_uri": "https://localhost:8080/"
        },
        "id": "N8yzu6pHCoU2",
        "outputId": "dd738c7c-0691-494b-d40b-261c4a434e75"
      },
      "execution_count": null,
      "outputs": [
        {
          "output_type": "stream",
          "name": "stdout",
          "text": [
            "Archive:  balanced-augmented-covid-cxr-dataset.zip\n",
            "replace balanced-augmented-covid-cxr-dataset/COVID/0.png? [y]es, [n]o, [A]ll, [N]one, [r]ename: "
          ]
        }
      ]
    },
    {
      "cell_type": "code",
      "source": [
        "import pandas as pd\n",
        "import numpy as np\n",
        "from glob import glob\n",
        "import cv2\n",
        "import os\n",
        "import matplotlib.pylab as plt\n",
        "\n",
        "covid_folder = '/content/balanced-augmented-covid-cxr-dataset/COVID/'\n",
        "normal_folder = '/content/balanced-augmented-covid-cxr-dataset/Normal/'\n",
        "opaque_folder = '/content/balanced-augmented-covid-cxr-dataset/Lung opacity/'\n",
        "pneumonia_folder = '/content/balanced-augmented-covid-cxr-dataset/Viral Pneumonia'\n",
        "\n",
        "# Lists to store images and labels\n",
        "images = []\n",
        "labels = []\n",
        "\n",
        "# Loading and preprocess Covid images\n",
        "for filename in os.listdir(covid_folder):\n",
        "    if filename.endswith('.png'):\n",
        "      img = cv2.imread(os.path.join(covid_folder, filename))\n",
        "      img = cv2.resize(img, (128, 128)) # resize the image to a common size\n",
        "      images.append(img)\n",
        "      labels.append(0) # 0 represents covid\n",
        "\n",
        "#loading and preprocess normal image\n",
        "for filename in os.listdir(normal_folder):\n",
        "    if filename.endswith('.png'):\n",
        "      img = cv2.imread(os.path.join(normal_folder, filename))\n",
        "      img = cv2.resize(img, (128, 128)) # resize the image to a common size\n",
        "      images.append(img)\n",
        "      labels.append(1) # 1 represents normal\n",
        "\n",
        "#loading and preprocess lung opacity image\n",
        "for filename in os.listdir(opaque_folder):\n",
        "    if filename.endswith('.png'):\n",
        "      img = cv2.imread(os.path.join(opaque_folder, filename))\n",
        "      img = cv2.resize(img, (128, 128)) # resize the image to a common size\n",
        "      images.append(img)\n",
        "      labels.append(2) # 2 represents lung opacity\n",
        "\n",
        "#loading and preprocess viral pneumonia image\n",
        "for filename in os.listdir(pneumonia_folder):\n",
        "    if filename.endswith('.png'):\n",
        "      img = cv2.imread(os.path.join(pneumonia_folder, filename))\n",
        "      img = cv2.resize(img, (128, 128)) # resize the image to a common size\n",
        "      images.append(img)\n",
        "      labels.append(3) # 3 represents viral pneumonia\n",
        "\n",
        "\n",
        "# convert lists to NumPy arrays\n",
        "images = np.array(images)\n",
        "labels = np.array(labels)"
      ],
      "metadata": {
        "id": "UMnp3YNOCoi2"
      },
      "execution_count": null,
      "outputs": []
    },
    {
      "cell_type": "code",
      "source": [
        "if len(labels) == 0:\n",
        "    print(\"List is empty\")"
      ],
      "metadata": {
        "id": "WooEsy5gUsr8"
      },
      "execution_count": null,
      "outputs": []
    },
    {
      "cell_type": "code",
      "source": [
        "from sklearn.model_selection import train_test_split\n",
        "\n",
        "#Split the data into training and testing sets\n",
        "x1_train, x1_test, y1_train, y1_test = train_test_split(images, labels, test_size=0.2, random_state=42)"
      ],
      "metadata": {
        "id": "tCBoAJLWCo5d"
      },
      "execution_count": null,
      "outputs": []
    },
    {
      "cell_type": "code",
      "source": [
        "import tensorflow as tf\n",
        "from tensorflow import keras\n",
        "from tensorflow.keras import layers\n",
        "\n",
        "#Model creation\n",
        "model = keras. Sequential([\n",
        "layers. Conv2D(32, (3, 3), activation='relu', input_shape=(128, 128, 3)), layers. MaxPooling2D((2, 2)), # input layers we used is 32\n",
        "layers. Conv2D(64, (3, 3), activation='relu'), layers.MaxPooling2D( (2, 2)),\n",
        "layers. Flatten(),\n",
        "layers. Dense(64, activation='relu'),\n",
        "layers. Dense(4, activation='softmax')\n",
        "#4 classes: covid, normal, opacity and viral (we have covid, normal, opacity and viral so we only have to output)\n",
        "])\n",
        "\n",
        "#compile the model\n",
        "model.compile(optimizer='adam', loss='sparse_categorical_crossentropy', metrics=['accuracy'])"
      ],
      "metadata": {
        "id": "tjgBCAacCpE9"
      },
      "execution_count": null,
      "outputs": []
    },
    {
      "cell_type": "code",
      "source": [],
      "metadata": {
        "id": "8IbjcpJrzkUt"
      },
      "execution_count": null,
      "outputs": []
    },
    {
      "cell_type": "code",
      "source": [
        "model.summary()"
      ],
      "metadata": {
        "colab": {
          "base_uri": "https://localhost:8080/"
        },
        "id": "hOcIo-a7Cpgt",
        "outputId": "d0b7877b-ea12-4b76-adae-c4e96633ce00"
      },
      "execution_count": null,
      "outputs": [
        {
          "output_type": "stream",
          "name": "stdout",
          "text": [
            "Model: \"sequential_5\"\n",
            "_________________________________________________________________\n",
            " Layer (type)                Output Shape              Param #   \n",
            "=================================================================\n",
            " conv2d_24 (Conv2D)          (None, 126, 126, 32)      896       \n",
            "                                                                 \n",
            " max_pooling2d_16 (MaxPooli  (None, 63, 63, 32)        0         \n",
            " ng2D)                                                           \n",
            "                                                                 \n",
            " conv2d_25 (Conv2D)          (None, 61, 61, 64)        18496     \n",
            "                                                                 \n",
            " max_pooling2d_17 (MaxPooli  (None, 30, 30, 64)        0         \n",
            " ng2D)                                                           \n",
            "                                                                 \n",
            " flatten_1 (Flatten)         (None, 57600)             0         \n",
            "                                                                 \n",
            " dense_2 (Dense)             (None, 64)                3686464   \n",
            "                                                                 \n",
            " dense_3 (Dense)             (None, 4)                 260       \n",
            "                                                                 \n",
            "=================================================================\n",
            "Total params: 3706116 (14.14 MB)\n",
            "Trainable params: 3706116 (14.14 MB)\n",
            "Non-trainable params: 0 (0.00 Byte)\n",
            "_________________________________________________________________\n"
          ]
        }
      ]
    },
    {
      "cell_type": "code",
      "source": [
        "#Check the image shape\n",
        "\n",
        "print(x1_train.shape)\n",
        "print(y1_train.shape)"
      ],
      "metadata": {
        "colab": {
          "base_uri": "https://localhost:8080/"
        },
        "id": "TizkmGmgCpvu",
        "outputId": "a40c9c39-0a8a-44e7-f02b-2861ecb4818a"
      },
      "execution_count": null,
      "outputs": [
        {
          "output_type": "stream",
          "name": "stdout",
          "text": [
            "(23998, 128, 128, 3)\n",
            "(23998,)\n"
          ]
        }
      ]
    },
    {
      "cell_type": "code",
      "source": [
        "#train the model\n",
        "\n",
        "history1 = model.fit(x1_train, y1_train, epochs=10, batch_size=32, validation_split=0.2)"
      ],
      "metadata": {
        "colab": {
          "base_uri": "https://localhost:8080/"
        },
        "id": "Vqa05x1IC74t",
        "outputId": "d0ed18ed-1fdc-4ae7-8110-18d02b3002da"
      },
      "execution_count": null,
      "outputs": [
        {
          "output_type": "stream",
          "name": "stdout",
          "text": [
            "Epoch 1/10\n",
            "600/600 [==============================] - 441s 732ms/step - loss: 3.7698 - accuracy: 0.7285 - val_loss: 0.4195 - val_accuracy: 0.8402\n",
            "Epoch 2/10\n",
            "600/600 [==============================] - 446s 744ms/step - loss: 0.3457 - accuracy: 0.8749 - val_loss: 0.3458 - val_accuracy: 0.8725\n",
            "Epoch 3/10\n",
            "600/600 [==============================] - 445s 741ms/step - loss: 0.1993 - accuracy: 0.9299 - val_loss: 0.3064 - val_accuracy: 0.8956\n",
            "Epoch 4/10\n",
            "600/600 [==============================] - 445s 741ms/step - loss: 0.4647 - accuracy: 0.8722 - val_loss: 0.8638 - val_accuracy: 0.6450\n",
            "Epoch 5/10\n",
            "600/600 [==============================] - 435s 725ms/step - loss: 0.5445 - accuracy: 0.7893 - val_loss: 0.5838 - val_accuracy: 0.7981\n",
            "Epoch 6/10\n",
            "600/600 [==============================] - 451s 752ms/step - loss: 0.2795 - accuracy: 0.9014 - val_loss: 0.4200 - val_accuracy: 0.8687\n",
            "Epoch 7/10\n",
            "600/600 [==============================] - 436s 726ms/step - loss: 0.1623 - accuracy: 0.9438 - val_loss: 0.3321 - val_accuracy: 0.9192\n",
            "Epoch 8/10\n",
            "600/600 [==============================] - 436s 727ms/step - loss: 0.1629 - accuracy: 0.9474 - val_loss: 0.3822 - val_accuracy: 0.8863\n",
            "Epoch 9/10\n",
            "600/600 [==============================] - 433s 722ms/step - loss: 0.1404 - accuracy: 0.9553 - val_loss: 0.3175 - val_accuracy: 0.9248\n",
            "Epoch 10/10\n",
            "600/600 [==============================] - 435s 726ms/step - loss: 0.2227 - accuracy: 0.9607 - val_loss: 1.1872 - val_accuracy: 0.7156\n"
          ]
        }
      ]
    },
    {
      "cell_type": "code",
      "source": [
        "# Testing process after we finish training\n",
        "\n",
        "# Model Evaluation:\n",
        "test_loss, test_acc = model.evaluate(x1_test, y1_test, verbose=2)\n",
        "print(f'Test accuracy: {test_acc}')"
      ],
      "metadata": {
        "colab": {
          "base_uri": "https://localhost:8080/"
        },
        "id": "Kiw8HODPC8IN",
        "outputId": "1590ea71-b8b9-4736-9e88-547047416b35"
      },
      "execution_count": null,
      "outputs": [
        {
          "output_type": "stream",
          "name": "stdout",
          "text": [
            "188/188 - 36s - loss: 1.1900 - accuracy: 0.7208 - 36s/epoch - 189ms/step\n",
            "Test accuracy: 0.7208333611488342\n"
          ]
        }
      ]
    },
    {
      "cell_type": "code",
      "source": [
        "#Predicting on a single image\n",
        "\n",
        "sample_image = x1_test[5] #Replace with another image data\n",
        "predictions = model.predict(np.expand_dims(sample_image, axis=0))\n",
        "predicted_label = np.argmax(predictions)\n",
        "\n",
        "#We can interpret the label using our database's class labels\n",
        "#(0 for covid, 1 for normal, 2 for Lung Opacity and 3 for Viral Pneumonia)\n",
        "class_labels =['covid','normal','opacity','pneumonia']\n",
        "predicted_class = class_labels[predicted_label]\n",
        "print(f'Predicted class: {predicted_class}')"
      ],
      "metadata": {
        "colab": {
          "base_uri": "https://localhost:8080/"
        },
        "id": "34LAzA4_C8aM",
        "outputId": "53fc73cb-1f1c-4af7-a204-bd5b3bd943c3"
      },
      "execution_count": null,
      "outputs": [
        {
          "output_type": "stream",
          "name": "stdout",
          "text": [
            "1/1 [==============================] - 0s 201ms/step\n",
            "Predicted class: covid\n"
          ]
        }
      ]
    },
    {
      "cell_type": "code",
      "source": [
        "import matplotlib.pyplot as plt\n",
        "\n",
        "#Sample image\n",
        "plt.imshow(sample_image)\n",
        "plt.axis('off') #Turn off axis labels and ticks\n",
        "plt.show()"
      ],
      "metadata": {
        "colab": {
          "base_uri": "https://localhost:8080/",
          "height": 406
        },
        "id": "QI_cOpfJC8tR",
        "outputId": "8842523e-97df-41ca-c933-4a0552a9822e"
      },
      "execution_count": null,
      "outputs": [
        {
          "output_type": "display_data",
          "data": {
            "text/plain": [
              "<Figure size 640x480 with 1 Axes>"
            ],
            "image/png": "[encoded data removed]"
          },
          "metadata": {}
        }
      ]
    },
    {
      "cell_type": "code",
      "source": [
        "from sklearn.metrics import accuracy_score, precision_score, recall_score, f1_score, confusion_matrix\n",
        "\n",
        "# Predict probabilities on the test set\n",
        "y1_pred_prob = model.predict(x1_test)\n",
        "\n",
        "# Convert probabilities to class labels\n",
        "y1_pred = np.argmax(y1_pred_prob, axis=1)\n",
        "\n",
        "# Accuracy\n",
        "accuracy = accuracy_score(y1_test, y1_pred)\n",
        "print(\"Accuracy:\", accuracy)\n",
        "\n",
        "# Precision\n",
        "precision = precision_score(y1_test, y1_pred, average='weighted')\n",
        "print(\"Precision:\", precision)\n",
        "\n",
        "# Recall\n",
        "recall = recall_score(y1_test, y1_pred, average='weighted')\n",
        "print(\"Recall:\", recall)\n",
        "\n",
        "# F1 Score\n",
        "f1 = f1_score(y1_test, y1_pred, average='weighted')\n",
        "print(\"F1 Score:\", f1)\n",
        "\n",
        "# Confusion Matrix\n",
        "conf_matrix = confusion_matrix(y1_test, y1_pred)\n",
        "print(\"Confusion Matrix:\")\n",
        "print(conf_matrix)"
      ],
      "metadata": {
        "colab": {
          "base_uri": "https://localhost:8080/"
        },
        "id": "9etLpq-qnYaZ",
        "outputId": "7dd0cacb-a33d-47c7-8efb-efefe3b386f0"
      },
      "execution_count": null,
      "outputs": [
        {
          "output_type": "stream",
          "name": "stdout",
          "text": [
            "188/188 [==============================] - 37s 195ms/step\n",
            "Accuracy: 0.7208333333333333\n",
            "Precision: 0.7315675608741112\n",
            "Recall: 0.7208333333333333\n",
            "F1 Score: 0.7180081390477532\n",
            "Confusion Matrix:\n",
            "[[1486  129   85   37]\n",
            " [ 301 1101  212   81]\n",
            " [ 402  201  872   42]\n",
            " [ 138   35   12  866]]\n"
          ]
        }
      ]
    },
    {
      "cell_type": "code",
      "source": [
        "uploaded_image = uploaded_image.astype('float32')/255.0\n",
        "uploaded_image = np.expand_dims(uploaded_image, )"
      ],
      "metadata": {
        "id": "kWJscJuvDKyu"
      },
      "execution_count": null,
      "outputs": []
    },
    {
      "cell_type": "code",
      "source": [],
      "metadata": {
        "id": "VHcWhY-qfS5s"
      },
      "execution_count": null,
      "outputs": []
    },
    {
      "cell_type": "code",
      "source": [
        "import numpy as np\n",
        "import tensorflow as tf\n",
        "from tensorflow import keras\n",
        "from tensorflow.keras import layers\n",
        "\n",
        "# Define the FCN model\n",
        "model = keras.Sequential([\n",
        "    layers.Conv2D(32, (3, 3), activation='relu', input_shape=(128, 128, 3)),\n",
        "    layers.MaxPooling2D((2, 2)),\n",
        "    layers.Conv2D(64, (3, 3), activation='relu'),\n",
        "    layers.MaxPooling2D((2, 2)),\n",
        "    layers.Conv2D(128, (3, 3), activation='relu'),\n",
        "    layers.MaxPooling2D((2, 2)),\n",
        "    layers.Conv2D(128, (3, 3), activation='relu'),\n",
        "    layers.MaxPooling2D((2, 2)),\n",
        "    layers.Flatten(),\n",
        "    layers.Dense(128, activation='relu'),\n",
        "    layers.Dense(4, activation='softmax')  # Output layer with 4 classes\n",
        "])\n",
        "\n",
        "# Compile the model\n",
        "model.compile(optimizer='adam',\n",
        "              loss='sparse_categorical_crossentropy',\n",
        "              metrics=['accuracy'])\n",
        "\n"
      ],
      "metadata": {
        "id": "Il2MMW4WfTrk"
      },
      "execution_count": null,
      "outputs": []
    },
    {
      "cell_type": "code",
      "source": [
        "# Display the model summary\n",
        "model.summary()\n",
        "\n",
        "# Train the model\n",
        "history = model.fit(x_train, y_train, epochs=10, batch_size=32, validation_split=0.2)"
      ],
      "metadata": {
        "colab": {
          "base_uri": "https://localhost:8080/"
        },
        "id": "kka2iVZzfTjV",
        "outputId": "a3fbf69f-605f-4a0d-d139-6ec0b97e6a3c"
      },
      "execution_count": null,
      "outputs": [
        {
          "output_type": "stream",
          "name": "stdout",
          "text": [
            "Model: \"sequential_4\"\n",
            "_________________________________________________________________\n",
            " Layer (type)                Output Shape              Param #   \n",
            "=================================================================\n",
            " conv2d_20 (Conv2D)          (None, 126, 126, 32)      896       \n",
            "                                                                 \n",
            " max_pooling2d_12 (MaxPooli  (None, 63, 63, 32)        0         \n",
            " ng2D)                                                           \n",
            "                                                                 \n",
            " conv2d_21 (Conv2D)          (None, 61, 61, 64)        18496     \n",
            "                                                                 \n",
            " max_pooling2d_13 (MaxPooli  (None, 30, 30, 64)        0         \n",
            " ng2D)                                                           \n",
            "                                                                 \n",
            " conv2d_22 (Conv2D)          (None, 28, 28, 128)       73856     \n",
            "                                                                 \n",
            " max_pooling2d_14 (MaxPooli  (None, 14, 14, 128)       0         \n",
            " ng2D)                                                           \n",
            "                                                                 \n",
            " conv2d_23 (Conv2D)          (None, 12, 12, 128)       147584    \n",
            "                                                                 \n",
            " max_pooling2d_15 (MaxPooli  (None, 6, 6, 128)         0         \n",
            " ng2D)                                                           \n",
            "                                                                 \n",
            " flatten (Flatten)           (None, 4608)              0         \n",
            "                                                                 \n",
            " dense (Dense)               (None, 128)               589952    \n",
            "                                                                 \n",
            " dense_1 (Dense)             (None, 4)                 516       \n",
            "                                                                 \n",
            "=================================================================\n",
            "Total params: 831300 (3.17 MB)\n",
            "Trainable params: 831300 (3.17 MB)\n",
            "Non-trainable params: 0 (0.00 Byte)\n",
            "_________________________________________________________________\n",
            "Epoch 1/10\n",
            "600/600 [==============================] - 637s 1s/step - loss: 1.0335 - accuracy: 0.7363 - val_loss: 0.4140 - val_accuracy: 0.8442\n",
            "Epoch 2/10\n",
            "600/600 [==============================] - 680s 1s/step - loss: 0.4024 - accuracy: 0.8480 - val_loss: 0.3660 - val_accuracy: 0.8642\n",
            "Epoch 3/10\n",
            "600/600 [==============================] - 671s 1s/step - loss: 0.2969 - accuracy: 0.8898 - val_loss: 0.3169 - val_accuracy: 0.8908\n",
            "Epoch 4/10\n",
            "600/600 [==============================] - 704s 1s/step - loss: 0.2503 - accuracy: 0.9079 - val_loss: 0.2864 - val_accuracy: 0.8927\n",
            "Epoch 5/10\n",
            "600/600 [==============================] - 648s 1s/step - loss: 0.2008 - accuracy: 0.9269 - val_loss: 0.2919 - val_accuracy: 0.9048\n",
            "Epoch 6/10\n",
            "600/600 [==============================] - 668s 1s/step - loss: 0.1741 - accuracy: 0.9379 - val_loss: 0.2352 - val_accuracy: 0.9171\n",
            "Epoch 7/10\n",
            "600/600 [==============================] - 654s 1s/step - loss: 0.1533 - accuracy: 0.9460 - val_loss: 0.2711 - val_accuracy: 0.9004\n",
            "Epoch 8/10\n",
            "600/600 [==============================] - 668s 1s/step - loss: 0.1313 - accuracy: 0.9534 - val_loss: 0.1586 - val_accuracy: 0.9535\n",
            "Epoch 9/10\n",
            "600/600 [==============================] - 666s 1s/step - loss: 0.1124 - accuracy: 0.9613 - val_loss: 0.1851 - val_accuracy: 0.9473\n",
            "Epoch 10/10\n",
            "600/600 [==============================] - 665s 1s/step - loss: 0.1028 - accuracy: 0.9646 - val_loss: 0.1682 - val_accuracy: 0.9460\n"
          ]
        }
      ]
    },
    {
      "cell_type": "code",
      "source": [
        "# Model Evaluation\n",
        "test_loss, test_acc = model.evaluate(x_test, y_test, verbose=2)\n",
        "print(f'Test accuracy: {test_acc}')"
      ],
      "metadata": {
        "colab": {
          "base_uri": "https://localhost:8080/"
        },
        "id": "nfIfFw4YfTV8",
        "outputId": "d47c492f-c1ec-4056-c36c-e4358e27e641"
      },
      "execution_count": null,
      "outputs": [
        {
          "output_type": "stream",
          "name": "stdout",
          "text": [
            "188/188 - 53s - loss: 0.1771 - accuracy: 0.9525 - 53s/epoch - 280ms/step\n",
            "Test accuracy: 0.9524999856948853\n"
          ]
        }
      ]
    },
    {
      "cell_type": "code",
      "source": [
        "# Example: Predicting on a single image\n",
        "sample_image = x_test[5]  # Replace with your image data\n",
        "predictions = model.predict(np.expand_dims(sample_image, axis=0))\n",
        "predicted_label = np.argmax(predictions)"
      ],
      "metadata": {
        "colab": {
          "base_uri": "https://localhost:8080/"
        },
        "id": "ge3svdu4fhee",
        "outputId": "c8bbf29f-b073-4490-a993-d03f76f4eb22"
      },
      "execution_count": null,
      "outputs": [
        {
          "output_type": "stream",
          "name": "stdout",
          "text": [
            "1/1 [==============================] - 0s 164ms/step\n"
          ]
        }
      ]
    },
    {
      "cell_type": "code",
      "source": [
        "# Label interpretation using class labels\n",
        "class_labels = ['covid', 'normal', 'opacity', 'pneumonia']\n",
        "predicted_class = class_labels[predicted_label]\n",
        "print(f'Predicted class: {predicted_class}')"
      ],
      "metadata": {
        "colab": {
          "base_uri": "https://localhost:8080/"
        },
        "id": "M3A93Qw6fjp8",
        "outputId": "4459db78-dc4b-49bc-ce79-40aa4dfe876b"
      },
      "execution_count": null,
      "outputs": [
        {
          "output_type": "stream",
          "name": "stdout",
          "text": [
            "Predicted class: covid\n"
          ]
        }
      ]
    },
    {
      "cell_type": "code",
      "source": [
        "# Display the sample image\n",
        "import matplotlib.pyplot as plt\n",
        "\n",
        "plt.imshow(sample_image)\n",
        "plt.axis('off')\n",
        "plt.show()"
      ],
      "metadata": {
        "id": "IJzoKMf-fjiO"
      },
      "execution_count": null,
      "outputs": []
    },
    {
      "cell_type": "code",
      "source": [
        "from sklearn.metrics import accuracy_score, precision_score, recall_score, f1_score, confusion_matrix\n",
        "\n",
        "# Predict probabilities on the test set\n",
        "y_pred_prob = model.predict(x_test)\n",
        "\n",
        "# Convert probabilities to class labels\n",
        "y_pred = np.argmax(y_pred_prob, axis=1)\n",
        "\n",
        "# Accuracy\n",
        "accuracy = accuracy_score(y_test, y_pred)\n",
        "print(\"Accuracy:\", accuracy)\n",
        "\n",
        "# Precision\n",
        "precision = precision_score(y_test, y_pred, average='weighted')\n",
        "print(\"Precision:\", precision)\n",
        "\n",
        "# Recall\n",
        "recall = recall_score(y_test, y_pred, average='weighted')\n",
        "print(\"Recall:\", recall)\n",
        "\n",
        "# F1 Score\n",
        "f1 = f1_score(y_test, y_pred, average='weighted')\n",
        "print(\"F1 Score:\", f1)\n",
        "\n",
        "# Confusion Matrix\n",
        "conf_matrix = confusion_matrix(y_test, y_pred)\n",
        "print(\"Confusion Matrix:\")\n",
        "print(conf_matrix)"
      ],
      "metadata": {
        "colab": {
          "base_uri": "https://localhost:8080/"
        },
        "id": "vNjrAvzvnmRS",
        "outputId": "e572249c-ff72-4983-c358-f3d75de6cb95"
      },
      "execution_count": null,
      "outputs": [
        {
          "output_type": "stream",
          "name": "stdout",
          "text": [
            "188/188 [==============================] - 54s 287ms/step\n",
            "Accuracy: 0.9525\n",
            "Precision: 0.952656235584516\n",
            "Recall: 0.9525\n",
            "F1 Score: 0.9522833837060101\n",
            "Confusion Matrix:\n",
            "[[1702   16   12    7]\n",
            " [  29 1606   49   11]\n",
            " [  46  102 1366    3]\n",
            " [   0   10    0 1041]]\n"
          ]
        }
      ]
    }
  ]
}